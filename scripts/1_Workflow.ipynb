{
 "cells": [
  {
   "cell_type": "markdown",
   "metadata": {},
   "source": [
    "# 00. Load Packages"
   ]
  },
  {
   "cell_type": "code",
   "execution_count": 1,
   "metadata": {},
   "outputs": [],
   "source": [
    "import os\n",
    "import pcraster as pcr\n",
    "\n",
    "import pcr_tool"
   ]
  },
  {
   "cell_type": "markdown",
   "metadata": {},
   "source": [
    "# 01. Basic Inputs for Example Run"
   ]
  },
  {
   "cell_type": "code",
   "execution_count": 2,
   "metadata": {},
   "outputs": [],
   "source": [
    "epsg = 32645 # EPSG for clone.map\n",
    "epsg_check = 4326 # EPSG for checking projections\n",
    "\n",
    "path_clone = os.path.join('..', 'examples', 'Trisuli', 'input', 'clone.map') # path to clone.map\n",
    "path_dem = os.path.join('..', 'examples', 'Trisuli', 'input', 'dem.map') # path to dem.map"
   ]
  },
  {
   "cell_type": "markdown",
   "metadata": {},
   "source": [
    "# 02. Create Clonemap"
   ]
  },
  {
   "cell_type": "markdown",
   "metadata": {},
   "source": [
    "First, we need to set an EPSG to define a clonemap."
   ]
  },
  {
   "cell_type": "code",
   "execution_count": 3,
   "metadata": {},
   "outputs": [],
   "source": [
    "map_clone = pcr_tool.clonemap(epsg = epsg)"
   ]
  },
  {
   "cell_type": "markdown",
   "metadata": {},
   "source": [
    "Let's create a clonemap based on the clonemap properties."
   ]
  },
  {
   "cell_type": "code",
   "execution_count": 4,
   "metadata": {},
   "outputs": [],
   "source": [
    "map_clone.create_clonemap(nrow = 749, ncol = 485, cellsize = 200, west = 290289, north = 3214899)\n",
    "pcr.aguila(map_clone.clonemap)"
   ]
  },
  {
   "cell_type": "markdown",
   "metadata": {},
   "source": [
    "# 03. Set DEM and its Modifications"
   ]
  },
  {
   "cell_type": "markdown",
   "metadata": {},
   "source": [
    "Here, we assume that the DEM pcraster map should be created through the pcr_tool operations."
   ]
  },
  {
   "cell_type": "code",
   "execution_count": 5,
   "metadata": {},
   "outputs": [],
   "source": [
    "wf_dem = map_clone.set_dem(path_dem)\n",
    "pcr.aguila(wf_dem)"
   ]
  },
  {
   "cell_type": "markdown",
   "metadata": {},
   "source": [
    "Oftentimes, there is a need to fill the depressions in DEM."
   ]
  },
  {
   "cell_type": "code",
   "execution_count": 6,
   "metadata": {},
   "outputs": [],
   "source": [
    "# equivalent to pcraster.lddcreatemap\n",
    "wf_dem_fill = map_clone.fill_dem(replace = True) # set 'replace' as True to update 'map_clone.dem'\n",
    "pcr.aguila(wf_dem_fill)"
   ]
  },
  {
   "cell_type": "markdown",
   "metadata": {},
   "source": [
    "Let's check the differences between the orginal and filled DEMs."
   ]
  },
  {
   "cell_type": "code",
   "execution_count": 7,
   "metadata": {},
   "outputs": [],
   "source": [
    "wf_dem_diff = wf_dem_fill - wf_dem\n",
    "pcr.aguila(wf_dem_diff)"
   ]
  },
  {
   "cell_type": "markdown",
   "metadata": {},
   "source": [
    "From now on, the operations below will be based on 'map_clone.dem'."
   ]
  },
  {
   "cell_type": "code",
   "execution_count": 8,
   "metadata": {},
   "outputs": [],
   "source": [
    "pcr.aguila(map_clone.dem)"
   ]
  },
  {
   "cell_type": "markdown",
   "metadata": {},
   "source": [
    "# 04. Calculate Hydrologic Properties"
   ]
  },
  {
   "cell_type": "markdown",
   "metadata": {},
   "source": [
    "First, we're going to calculate the slope property and compare with the SPHY-provided input."
   ]
  },
  {
   "cell_type": "code",
   "execution_count": 9,
   "metadata": {},
   "outputs": [],
   "source": [
    "# equivalent to pcraster.slope\n",
    "wf_slope = map_clone.calculate_slope()\n",
    "pcr.aguila(wf_slope)\n",
    "\n",
    "wf_slope_ref = pcr.readmap(os.path.join('..', 'examples', 'Trisuli', 'input', 'slope.map'))\n",
    "pcr.aguila(wf_slope_ref)\n",
    "\n",
    "pcr.aguila(wf_slope - wf_slope_ref)"
   ]
  },
  {
   "cell_type": "markdown",
   "metadata": {},
   "source": [
    "Second, the flow direction property."
   ]
  },
  {
   "cell_type": "code",
   "execution_count": 10,
   "metadata": {},
   "outputs": [],
   "source": [
    "# equivalent to pcraster.lddcreate\n",
    "wf_flowdir = map_clone.calculate_flowdir()\n",
    "pcr.aguila(wf_flowdir)\n",
    "\n",
    "wf_flowdir_ref = pcr.readmap(os.path.join('..', 'examples', 'Trisuli', 'input', 'ldd.map'))\n",
    "pcr.aguila(wf_flowdir_ref)"
   ]
  },
  {
   "cell_type": "markdown",
   "metadata": {},
   "source": [
    "Let's assign outlet points to delineate catchments."
   ]
  },
  {
   "cell_type": "code",
   "execution_count": 11,
   "metadata": {},
   "outputs": [],
   "source": [
    "list_outlet = [\n",
    "    [27.9807, 85.1817],\n",
    "    [28.2089, 85.5489],\n",
    "    ]\n",
    "wf_outlet, list_outlet_epsg = map_clone.create_outlet(outlets = list_outlet, epsg = epsg_check)\n",
    "pcr.aguila(wf_outlet)\n",
    "list_outlet_epsg\n",
    "\n",
    "wf_outlet_ref = pcr.readmap(os.path.join('..', 'examples', 'Trisuli', 'input', 'outlet.map'))\n",
    "pcr.aguila(wf_outlet_ref)"
   ]
  },
  {
   "cell_type": "markdown",
   "metadata": {},
   "source": [
    "Based on the assigned outlet points, catchments can be delineated. You will see the difference with the SPHY-provided input because the DEM and flow direction require requires additional treatements to correctly delineate catchment."
   ]
  },
  {
   "cell_type": "code",
   "execution_count": 12,
   "metadata": {},
   "outputs": [],
   "source": [
    "# equivalent to pcraster.subcatchment\n",
    "wf_catchment = map_clone.create_subcatchment()\n",
    "pcr.aguila(wf_catchment)\n",
    "\n",
    "wf_catchment_ref = pcr.readmap(os.path.join('..', 'examples', 'Trisuli', 'input', 'catchment.map'))\n",
    "pcr.aguila(wf_catchment_ref)"
   ]
  },
  {
   "cell_type": "markdown",
   "metadata": {},
   "source": [
    "While this is not required for SPHY applications, but we can also check whether channels are aligned well as expected through streamorder and flow accumulation."
   ]
  },
  {
   "cell_type": "code",
   "execution_count": 13,
   "metadata": {},
   "outputs": [],
   "source": [
    "# equivalent to pcraster.streamorder\n",
    "wf_streamorder = map_clone.create_streamorder()\n",
    "pcr.aguila(wf_streamorder)\n",
    "\n",
    "wf_channel_streamorder = pcr.ifthen(wf_streamorder >= 4, pcr.boolean(1))\n",
    "pcr.aguila(wf_channel_streamorder)"
   ]
  },
  {
   "cell_type": "code",
   "execution_count": 14,
   "metadata": {},
   "outputs": [],
   "source": [
    "# equivalent to pcraster.accuflux\n",
    "wf_accuflux = map_clone.create_accuflux()\n",
    "pcr.aguila(wf_accuflux)\n",
    "\n",
    "wf_channel_accuflux = pcr.ifthen(wf_accuflux >= 100, pcr.boolean(1))\n",
    "pcr.aguila(wf_channel_accuflux)"
   ]
  },
  {
   "cell_type": "markdown",
   "metadata": {},
   "source": [
    "However, SPHY requires a latitude pcraster map to calculate extraterrestrial radiation."
   ]
  },
  {
   "cell_type": "code",
   "execution_count": 15,
   "metadata": {},
   "outputs": [],
   "source": [
    "wf_lat = map_clone.create_latitude(field_mv = wf_dem) # 'field_mv' is used to replicate a mask\n",
    "pcr.aguila(wf_lat)\n",
    "\n",
    "wf_lat_ref = pcr.readmap(os.path.join('..', 'examples', 'Trisuli', 'input', 'latitude.map'))\n",
    "pcr.aguila(wf_lat_ref)\n",
    "\n",
    "pcr.aguila(wf_lat - wf_lat_ref)"
   ]
  },
  {
   "cell_type": "markdown",
   "metadata": {},
   "source": [
    "# 05. Generate Soil/Land/Vegetation Property Map"
   ]
  },
  {
   "cell_type": "markdown",
   "metadata": {},
   "source": [
    "Here is an example to create a pcraster map of saturated hydraulic conductivity for a root zone from 'soil.map' using lookuptable, 'root_satk.tbl'."
   ]
  },
  {
   "cell_type": "code",
   "execution_count": 16,
   "metadata": {},
   "outputs": [],
   "source": [
    "path_table = os.path.join('..', 'examples', 'Trisuli', 'soil', 'root_satk.tbl')\n",
    "path_soilmap = os.path.join('..', 'examples', 'Trisuli', 'soil', 'soil.map')\n",
    "map_root_satk = pcr.lookupscalar(path_table, path_soilmap)\n",
    "\n",
    "pcr.aguila(path_soilmap)\n",
    "pcr.aguila(map_root_satk)"
   ]
  }
 ],
 "metadata": {
  "kernelspec": {
   "display_name": "sphy",
   "language": "python",
   "name": "python3"
  },
  "language_info": {
   "codemirror_mode": {
    "name": "ipython",
    "version": 3
   },
   "file_extension": ".py",
   "mimetype": "text/x-python",
   "name": "python",
   "nbconvert_exporter": "python",
   "pygments_lexer": "ipython3",
   "version": "3.9.18"
  }
 },
 "nbformat": 4,
 "nbformat_minor": 2
}
